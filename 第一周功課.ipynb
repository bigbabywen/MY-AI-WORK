{
 "cells": [
  {
   "cell_type": "code",
   "execution_count": 1,
   "metadata": {},
   "outputs": [
    {
     "name": "stdout",
     "output_type": "stream",
     "text": [
      "台幣價格500\n",
      "合美金16.5元\n",
      "合人民幣116.1元\n",
      "合日幣1796.6元\n"
     ]
    }
   ],
   "source": [
    "m= input (\"台幣價格\")\n",
    "USD = float(m)*0.033\n",
    "CNY = float(m)*0.2322\n",
    "JPY = float(m)*3.5932\n",
    "print(\"合美金\"+ str(USD) + \"元\")\n",
    "print(\"合人民幣\"+ str(CNY)+ \"元\")\n",
    "print(\"合日幣\"+ str(JPY)+\"元\")"
   ]
  },
  {
   "cell_type": "code",
   "execution_count": null,
   "metadata": {},
   "outputs": [],
   "source": []
  }
 ],
 "metadata": {
  "kernelspec": {
   "display_name": "Python 3",
   "language": "python",
   "name": "python3"
  },
  "language_info": {
   "codemirror_mode": {
    "name": "ipython",
    "version": 3
   },
   "file_extension": ".py",
   "mimetype": "text/x-python",
   "name": "python",
   "nbconvert_exporter": "python",
   "pygments_lexer": "ipython3",
   "version": "3.7.4"
  }
 },
 "nbformat": 4,
 "nbformat_minor": 2
}
