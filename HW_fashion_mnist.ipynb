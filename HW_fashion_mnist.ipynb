{
 "cells": [
  {
   "cell_type": "code",
   "execution_count": 1,
   "metadata": {},
   "outputs": [],
   "source": [
    "%matplotlib inline\n",
    "import numpy as np\n",
    "import matplotlib.pyplot as plt"
   ]
  },
  {
   "cell_type": "code",
   "execution_count": 2,
   "metadata": {},
   "outputs": [
    {
     "name": "stderr",
     "output_type": "stream",
     "text": [
      "Using TensorFlow backend.\n"
     ]
    }
   ],
   "source": [
    "import tensorflow as ts\n",
    "import keras"
   ]
  },
  {
   "cell_type": "code",
   "execution_count": 4,
   "metadata": {},
   "outputs": [],
   "source": [
    "from tensorflow.keras.datasets import fashion_mnist"
   ]
  },
  {
   "cell_type": "code",
   "execution_count": 5,
   "metadata": {},
   "outputs": [
    {
     "name": "stdout",
     "output_type": "stream",
     "text": [
      "Downloading data from https://storage.googleapis.com/tensorflow/tf-keras-datasets/train-labels-idx1-ubyte.gz\n",
      "32768/29515 [=================================] - 0s 1us/step\n",
      "Downloading data from https://storage.googleapis.com/tensorflow/tf-keras-datasets/train-images-idx3-ubyte.gz\n",
      "26427392/26421880 [==============================] - 1s 0us/step\n",
      "Downloading data from https://storage.googleapis.com/tensorflow/tf-keras-datasets/t10k-labels-idx1-ubyte.gz\n",
      "8192/5148 [===============================================] - 0s 0us/step\n",
      "Downloading data from https://storage.googleapis.com/tensorflow/tf-keras-datasets/t10k-images-idx3-ubyte.gz\n",
      "4423680/4422102 [==============================] - 0s 0us/step\n"
     ]
    }
   ],
   "source": [
    "(x_train, y_train), (x_test, y_test) = fashion_mnist.load_data()"
   ]
  },
  {
   "cell_type": "markdown",
   "metadata": {},
   "source": [
    "# 欣賞數據及內容"
   ]
  },
  {
   "cell_type": "code",
   "execution_count": 6,
   "metadata": {},
   "outputs": [],
   "source": [
    "class_names = ['T-shirt/top', 'Trouser', 'Pullover', 'Dress', 'Coat',\n",
    "               'Sandal', 'Shirt', 'Sneaker', 'Bag', 'Ankle boot']\n"
   ]
  },
  {
   "cell_type": "code",
   "execution_count": 7,
   "metadata": {},
   "outputs": [
    {
     "name": "stdout",
     "output_type": "stream",
     "text": [
      "this is a Ankle boot\n"
     ]
    },
    {
     "data": {
      "image/png": "[encoded data removed]",
      "text/plain": [
       "<Figure size 432x288 with 1 Axes>"
      ]
     },
     "metadata": {
      "needs_background": "light"
     },
     "output_type": "display_data"
    }
   ],
   "source": [
    "n = 2356\n",
    "print('this is a', class_names[y_train[n]])\n",
    "plt.imshow(x_train[n], cmap='Greys');"
   ]
  },
  {
   "cell_type": "code",
   "execution_count": 9,
   "metadata": {},
   "outputs": [
    {
     "data": {
      "text/plain": [
       "10000"
      ]
     },
     "execution_count": 9,
     "metadata": {},
     "output_type": "execute_result"
    }
   ],
   "source": [
    "len(x_test)"
   ]
  },
  {
   "cell_type": "code",
   "execution_count": 10,
   "metadata": {},
   "outputs": [
    {
     "data": {
      "text/plain": [
       "10000"
      ]
     },
     "execution_count": 10,
     "metadata": {},
     "output_type": "execute_result"
    }
   ],
   "source": [
    "len(x_test)"
   ]
  },
  {
   "cell_type": "code",
   "execution_count": 11,
   "metadata": {},
   "outputs": [
    {
     "data": {
      "text/plain": [
       "(60000, 28, 28)"
      ]
     },
     "execution_count": 11,
     "metadata": {},
     "output_type": "execute_result"
    }
   ],
   "source": [
    "x_train.shape"
   ]
  },
  {
   "cell_type": "code",
   "execution_count": 13,
   "metadata": {},
   "outputs": [],
   "source": [
    "x_train = x_train.reshape(60000,784)/255\n",
    "x_test = x_test.reshape(10000,784)/255"
   ]
  },
  {
   "cell_type": "code",
   "execution_count": 14,
   "metadata": {},
   "outputs": [],
   "source": [
    "from tensorflow.keras.utils import to_categorical"
   ]
  },
  {
   "cell_type": "code",
   "execution_count": 15,
   "metadata": {},
   "outputs": [],
   "source": [
    "y_train= to_categorical(y_train, 10)"
   ]
  },
  {
   "cell_type": "code",
   "execution_count": 16,
   "metadata": {},
   "outputs": [],
   "source": [
    "y_test= to_categorical(y_train, 10)"
   ]
  },
  {
   "cell_type": "markdown",
   "metadata": {},
   "source": [
    "##建置模型"
   ]
  },
  {
   "cell_type": "code",
   "execution_count": 17,
   "metadata": {},
   "outputs": [],
   "source": [
    "from tensorflow.keras.models import Sequential\n",
    "from tensorflow.keras.layers import Dense\n",
    "from tensorflow.keras.optimizers import SGD"
   ]
  },
  {
   "cell_type": "code",
   "execution_count": 18,
   "metadata": {},
   "outputs": [
    {
     "name": "stdout",
     "output_type": "stream",
     "text": [
      "WARNING:tensorflow:From C:\\Users\\88690\\Anaconda3\\lib\\site-packages\\tensorflow_core\\python\\ops\\resource_variable_ops.py:1630: calling BaseResourceVariable.__init__ (from tensorflow.python.ops.resource_variable_ops) with constraint is deprecated and will be removed in a future version.\n",
      "Instructions for updating:\n",
      "If using Keras pass *_constraint arguments to layers.\n"
     ]
    }
   ],
   "source": [
    "model = Sequential()\n",
    "model.add(Dense(99, input_dim=784, activation='relu'))\n",
    "model.add(Dense(99, activation='relu'))"
   ]
  },
  {
   "cell_type": "code",
   "execution_count": 19,
   "metadata": {},
   "outputs": [],
   "source": [
    "model.add(Dense(10, activation='softmax'))"
   ]
  },
  {
   "cell_type": "code",
   "execution_count": 20,
   "metadata": {},
   "outputs": [],
   "source": [
    "model.compile(loss='mse', optimizer=SGD(lr=0.085), metrics=['accuracy'])"
   ]
  },
  {
   "cell_type": "code",
   "execution_count": 22,
   "metadata": {},
   "outputs": [
    {
     "name": "stdout",
     "output_type": "stream",
     "text": [
      "Model: \"sequential\"\n",
      "_________________________________________________________________\n",
      "Layer (type)                 Output Shape              Param #   \n",
      "=================================================================\n",
      "dense (Dense)                (None, 99)                77715     \n",
      "_________________________________________________________________\n",
      "dense_1 (Dense)              (None, 99)                9900      \n",
      "_________________________________________________________________\n",
      "dense_2 (Dense)              (None, 10)                1000      \n",
      "=================================================================\n",
      "Total params: 88,615\n",
      "Trainable params: 88,615\n",
      "Non-trainable params: 0\n",
      "_________________________________________________________________\n"
     ]
    }
   ],
   "source": [
    "model.summary()"
   ]
  },
  {
   "cell_type": "markdown",
   "metadata": {},
   "source": [
    "## 訓練"
   ]
  },
  {
   "cell_type": "code",
   "execution_count": 23,
   "metadata": {},
   "outputs": [
    {
     "name": "stdout",
     "output_type": "stream",
     "text": [
      "Train on 60000 samples\n",
      "Epoch 1/20\n",
      "60000/60000 [==============================] - 3s 51us/sample - loss: 0.0687 - acc: 0.5451\n",
      "Epoch 2/20\n",
      "60000/60000 [==============================] - 3s 42us/sample - loss: 0.0426 - acc: 0.7082\n",
      "Epoch 3/20\n",
      "60000/60000 [==============================] - 2s 40us/sample - loss: 0.0350 - acc: 0.7718\n",
      "Epoch 4/20\n",
      "60000/60000 [==============================] - 2s 39us/sample - loss: 0.0311 - acc: 0.7998\n",
      "Epoch 5/20\n",
      "60000/60000 [==============================] - 2s 38us/sample - loss: 0.0288 - acc: 0.8127\n",
      "Epoch 6/20\n",
      "60000/60000 [==============================] - 2s 38us/sample - loss: 0.0272 - acc: 0.8209\n",
      "Epoch 7/20\n",
      "60000/60000 [==============================] - 3s 46us/sample - loss: 0.0262 - acc: 0.8261\n",
      "Epoch 8/20\n",
      "60000/60000 [==============================] - 2s 39us/sample - loss: 0.0253 - acc: 0.8314\n",
      "Epoch 9/20\n",
      "60000/60000 [==============================] - 2s 40us/sample - loss: 0.0246 - acc: 0.8355\n",
      "Epoch 10/20\n",
      "60000/60000 [==============================] - 2s 39us/sample - loss: 0.0241 - acc: 0.8385\n",
      "Epoch 11/20\n",
      "60000/60000 [==============================] - 2s 41us/sample - loss: 0.0236 - acc: 0.8415\n",
      "Epoch 12/20\n",
      "60000/60000 [==============================] - 2s 40us/sample - loss: 0.0232 - acc: 0.8433\n",
      "Epoch 13/20\n",
      "60000/60000 [==============================] - 2s 41us/sample - loss: 0.0229 - acc: 0.8465\n",
      "Epoch 14/20\n",
      "60000/60000 [==============================] - 3s 45us/sample - loss: 0.0225 - acc: 0.8486\n",
      "Epoch 15/20\n",
      "60000/60000 [==============================] - 2s 37us/sample - loss: 0.0223 - acc: 0.8501\n",
      "Epoch 16/20\n",
      "60000/60000 [==============================] - 2s 39us/sample - loss: 0.0220 - acc: 0.8524\n",
      "Epoch 17/20\n",
      "60000/60000 [==============================] - 2s 41us/sample - loss: 0.0217 - acc: 0.8548\n",
      "Epoch 18/20\n",
      "60000/60000 [==============================] - 2s 38us/sample - loss: 0.0215 - acc: 0.8556\n",
      "Epoch 19/20\n",
      "60000/60000 [==============================] - 3s 44us/sample - loss: 0.0213 - acc: 0.8572\n",
      "Epoch 20/20\n",
      "60000/60000 [==============================] - 2s 36us/sample - loss: 0.0211 - acc: 0.8593\n"
     ]
    },
    {
     "data": {
      "text/plain": [
       "<tensorflow.python.keras.callbacks.History at 0x146d7d20f48>"
      ]
     },
     "execution_count": 23,
     "metadata": {},
     "output_type": "execute_result"
    }
   ],
   "source": [
    "model.fit(x_train, y_train, batch_size=100, epochs=20)"
   ]
  },
  {
   "cell_type": "code",
   "execution_count": 24,
   "metadata": {},
   "outputs": [],
   "source": [
    "result = model.predict_classes(x_test)"
   ]
  },
  {
   "cell_type": "code",
   "execution_count": 25,
   "metadata": {},
   "outputs": [
    {
     "data": {
      "text/plain": [
       "8"
      ]
     },
     "execution_count": 25,
     "metadata": {},
     "output_type": "execute_result"
    }
   ],
   "source": [
    "result[256]"
   ]
  },
  {
   "cell_type": "code",
   "execution_count": 26,
   "metadata": {},
   "outputs": [
    {
     "name": "stdout",
     "output_type": "stream",
     "text": [
      "神經網路預測是: Bag\n"
     ]
    },
    {
     "data": {
      "text/plain": [
       "<matplotlib.image.AxesImage at 0x146d7e20508>"
      ]
     },
     "execution_count": 26,
     "metadata": {},
     "output_type": "execute_result"
    },
    {
     "data": {
      "image/png": "[encoded data removed]",
      "text/plain": [
       "<Figure size 432x288 with 1 Axes>"
      ]
     },
     "metadata": {
      "needs_background": "light"
     },
     "output_type": "display_data"
    }
   ],
   "source": [
    "n = 256\n",
    "print('神經網路預測是:',class_names[result[n]])\n",
    "plt.imshow(x_test[n].reshape(28,28), cmap='Greys')"
   ]
  },
  {
   "cell_type": "markdown",
   "metadata": {},
   "source": [
    "### 減少神經元"
   ]
  },
  {
   "cell_type": "code",
   "execution_count": 27,
   "metadata": {},
   "outputs": [],
   "source": [
    "model2 = Sequential()\n",
    "model2.add(Dense(10, input_dim=784, activation='relu'))\n",
    "model2.add(Dense(10, activation='relu'))"
   ]
  },
  {
   "cell_type": "code",
   "execution_count": 28,
   "metadata": {},
   "outputs": [],
   "source": [
    "model2.add(Dense(10, activation=\"softmax\"))"
   ]
  },
  {
   "cell_type": "code",
   "execution_count": 29,
   "metadata": {},
   "outputs": [],
   "source": [
    "model2.compile(loss='mse' , optimizer=SGD(lr=0.085) , metrics=['accuracy'])"
   ]
  },
  {
   "cell_type": "code",
   "execution_count": 30,
   "metadata": {},
   "outputs": [
    {
     "name": "stdout",
     "output_type": "stream",
     "text": [
      "Model: \"sequential_1\"\n",
      "_________________________________________________________________\n",
      "Layer (type)                 Output Shape              Param #   \n",
      "=================================================================\n",
      "dense_3 (Dense)              (None, 10)                7850      \n",
      "_________________________________________________________________\n",
      "dense_4 (Dense)              (None, 10)                110       \n",
      "_________________________________________________________________\n",
      "dense_5 (Dense)              (None, 10)                110       \n",
      "=================================================================\n",
      "Total params: 8,070\n",
      "Trainable params: 8,070\n",
      "Non-trainable params: 0\n",
      "_________________________________________________________________\n"
     ]
    }
   ],
   "source": [
    "model2.summary()"
   ]
  },
  {
   "cell_type": "code",
   "execution_count": 33,
   "metadata": {},
   "outputs": [
    {
     "name": "stdout",
     "output_type": "stream",
     "text": [
      "Train on 60000 samples\n",
      "Epoch 1/20\n",
      "60000/60000 [==============================] - 2s 30us/sample - loss: 0.0233 - acc: 0.8417\n",
      "Epoch 2/20\n",
      "60000/60000 [==============================] - 2s 28us/sample - loss: 0.0232 - acc: 0.8424\n",
      "Epoch 3/20\n",
      "60000/60000 [==============================] - 2s 27us/sample - loss: 0.0231 - acc: 0.8432\n",
      "Epoch 4/20\n",
      "60000/60000 [==============================] - 2s 28us/sample - loss: 0.0229 - acc: 0.8439\n",
      "Epoch 5/20\n",
      "60000/60000 [==============================] - 2s 27us/sample - loss: 0.0229 - acc: 0.8447\n",
      "Epoch 6/20\n",
      "60000/60000 [==============================] - 2s 27us/sample - loss: 0.0228 - acc: 0.8448\n",
      "Epoch 7/20\n",
      "60000/60000 [==============================] - 2s 28us/sample - loss: 0.0226 - acc: 0.8466\n",
      "Epoch 8/20\n",
      "60000/60000 [==============================] - 2s 28us/sample - loss: 0.0225 - acc: 0.8471\n",
      "Epoch 9/20\n",
      "60000/60000 [==============================] - 2s 29us/sample - loss: 0.0225 - acc: 0.8476\n",
      "Epoch 10/20\n",
      "60000/60000 [==============================] - 2s 26us/sample - loss: 0.0224 - acc: 0.8474\n",
      "Epoch 11/20\n",
      "60000/60000 [==============================] - ETA: 0s - loss: 0.0223 - acc: 0.848 - 2s 29us/sample - loss: 0.0223 - acc: 0.8486\n",
      "Epoch 12/20\n",
      "60000/60000 [==============================] - 2s 27us/sample - loss: 0.0222 - acc: 0.8493\n",
      "Epoch 13/20\n",
      "60000/60000 [==============================] - 2s 28us/sample - loss: 0.0221 - acc: 0.8500\n",
      "Epoch 14/20\n",
      "60000/60000 [==============================] - 2s 27us/sample - loss: 0.0221 - acc: 0.8505\n",
      "Epoch 15/20\n",
      "60000/60000 [==============================] - 2s 27us/sample - loss: 0.0220 - acc: 0.8513\n",
      "Epoch 16/20\n",
      "60000/60000 [==============================] - 2s 34us/sample - loss: 0.0219 - acc: 0.8508\n",
      "Epoch 17/20\n",
      "60000/60000 [==============================] - 2s 32us/sample - loss: 0.0218 - acc: 0.8516\n",
      "Epoch 18/20\n",
      "60000/60000 [==============================] - 2s 29us/sample - loss: 0.0217 - acc: 0.8530\n",
      "Epoch 19/20\n",
      "60000/60000 [==============================] - 2s 35us/sample - loss: 0.0217 - acc: 0.8529\n",
      "Epoch 20/20\n",
      "60000/60000 [==============================] - 2s 30us/sample - loss: 0.0216 - acc: 0.8531\n"
     ]
    },
    {
     "data": {
      "text/plain": [
       "<tensorflow.python.keras.callbacks.History at 0x146fd66bd08>"
      ]
     },
     "execution_count": 33,
     "metadata": {},
     "output_type": "execute_result"
    }
   ],
   "source": [
    "model2.fit(x_train, y_train, batch_size=100, epochs=20)"
   ]
  },
  {
   "cell_type": "code",
   "execution_count": 34,
   "metadata": {},
   "outputs": [],
   "source": [
    "result2 = model2.predict_classes(x_test)"
   ]
  },
  {
   "cell_type": "code",
   "execution_count": 35,
   "metadata": {},
   "outputs": [
    {
     "name": "stdout",
     "output_type": "stream",
     "text": [
      "神經網路預測是: Trouser\n"
     ]
    },
    {
     "data": {
      "text/plain": [
       "<matplotlib.image.AxesImage at 0x146fd69b5c8>"
      ]
     },
     "execution_count": 35,
     "metadata": {},
     "output_type": "execute_result"
    },
    {
     "data": {
      "image/png": "[encoded data removed]",
      "text/plain": [
       "<Figure size 432x288 with 1 Axes>"
      ]
     },
     "metadata": {
      "needs_background": "light"
     },
     "output_type": "display_data"
    }
   ],
   "source": [
    "n = 849\n",
    "print('神經網路預測是:',class_names[result2[n]])\n",
    "plt.imshow(x_test[n].reshape(28,28), cmap='Greys')"
   ]
  },
  {
   "cell_type": "markdown",
   "metadata": {},
   "source": [
    "比較神經元10個跟99個的差距，99個的accuracy是0.8593，而10個的是0.8531差距很小，且如果都提高訓練次數可能會有差不多的結果，所以如何是足夠且能有效率預測的神經元數量，是值得去討論的。"
   ]
  },
  {
   "cell_type": "code",
   "execution_count": null,
   "metadata": {},
   "outputs": [],
   "source": []
  }
 ],
 "metadata": {
  "kernelspec": {
   "display_name": "Python 3",
   "language": "python",
   "name": "python3"
  },
  "language_info": {
   "codemirror_mode": {
    "name": "ipython",
    "version": 3
   },
   "file_extension": ".py",
   "mimetype": "text/x-python",
   "name": "python",
   "nbconvert_exporter": "python",
   "pygments_lexer": "ipython3",
   "version": "3.7.4"
  }
 },
 "nbformat": 4,
 "nbformat_minor": 2
}
