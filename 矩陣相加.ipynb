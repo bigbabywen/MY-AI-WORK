{
 "cells": [
  {
   "cell_type": "code",
   "execution_count": 1,
   "metadata": {},
   "outputs": [],
   "source": [
    "%matplotlib inline\n",
    "import numpy as np\n",
    "import matplotlib.pyplot as plt\n",
    "import pandas as pd"
   ]
  },
  {
   "cell_type": "code",
   "execution_count": 2,
   "metadata": {},
   "outputs": [],
   "source": [
    "m1 = np.random.randn(5,5)"
   ]
  },
  {
   "cell_type": "code",
   "execution_count": 3,
   "metadata": {},
   "outputs": [],
   "source": [
    "m2 = np.random.randn(5,5)"
   ]
  },
  {
   "cell_type": "code",
   "execution_count": 4,
   "metadata": {},
   "outputs": [],
   "source": [
    "def matrix_plus(m1,m2):\n",
    "    return np.array(m1)+np.array(m2)"
   ]
  },
  {
   "cell_type": "code",
   "execution_count": 5,
   "metadata": {},
   "outputs": [
    {
     "data": {
      "text/plain": [
       "array([[ 4.55379933e-01, -9.75735425e-01,  6.42443203e-01,\n",
       "         1.01046467e+00,  3.73411880e-01],\n",
       "       [ 3.04531263e-01, -1.94430702e+00,  1.85478851e+00,\n",
       "         3.31517084e+00,  1.70567092e+00],\n",
       "       [-6.28354668e-01,  2.62887052e+00,  1.03260790e+00,\n",
       "         2.10254879e+00, -5.47523150e-01],\n",
       "       [-4.80626100e-01, -6.82300786e-01,  3.36883490e-01,\n",
       "         3.18263460e-03,  1.14447620e-01],\n",
       "       [-8.37049325e-01, -6.18636974e-01,  1.15101614e+00,\n",
       "        -1.83121622e+00,  3.20409499e+00]])"
      ]
     },
     "execution_count": 5,
     "metadata": {},
     "output_type": "execute_result"
    }
   ],
   "source": [
    "matrix_plus(m1,m2)"
   ]
  },
  {
   "cell_type": "code",
   "execution_count": null,
   "metadata": {},
   "outputs": [],
   "source": []
  }
 ],
 "metadata": {
  "kernelspec": {
   "display_name": "Python 3",
   "language": "python",
   "name": "python3"
  },
  "language_info": {
   "codemirror_mode": {
    "name": "ipython",
    "version": 3
   },
   "file_extension": ".py",
   "mimetype": "text/x-python",
   "name": "python",
   "nbconvert_exporter": "python",
   "pygments_lexer": "ipython3",
   "version": "3.7.4"
  }
 },
 "nbformat": 4,
 "nbformat_minor": 2
}
