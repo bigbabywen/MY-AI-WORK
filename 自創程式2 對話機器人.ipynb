{
 "cells": [
  {
   "cell_type": "code",
   "execution_count": 2,
   "metadata": {},
   "outputs": [
    {
     "name": "stdout",
     "output_type": "stream",
     "text": [
      ">> 你好\n",
      "你好\n",
      ">> 我想死\n",
      "不要死\n",
      ">> 我在幹你\n",
      "不要說髒話\n",
      ">> 好的\n",
      "我聽你說\n",
      ">> 我很開心\n",
      "真好\n",
      ">> 哭阿\n",
      "不要哭\n",
      ">> QUITE\n",
      "我聽你說\n",
      ">> quite\n",
      "我聽你說\n",
      ">> qiut\n",
      "我聽你說\n",
      ">> quit\n",
      "我聽你說\n"
     ]
    }
   ],
   "source": [
    "message = \" \"\n",
    "while message != \"quit\":\n",
    "    \n",
    "    message = input(\">> \")\n",
    "    if (\"幹\"in message) :\n",
    "        print (\"不要說髒話\")\n",
    "    elif (\"開心\" in message):\n",
    "        print(\"真好\")\n",
    "    elif (\"死\" in message):\n",
    "        print(\"不要死\")\n",
    "    elif (\"你好\" in message):\n",
    "        print(\"你好\")\n",
    "    elif (\"哭\" in message):\n",
    "        print(\"不要哭\")\n",
    "    else:\n",
    "        print(\"我聽你說\")"
   ]
  },
  {
   "cell_type": "code",
   "execution_count": null,
   "metadata": {},
   "outputs": [],
   "source": [
    "s"
   ]
  }
 ],
 "metadata": {
  "kernelspec": {
   "display_name": "Python 3",
   "language": "python",
   "name": "python3"
  },
  "language_info": {
   "codemirror_mode": {
    "name": "ipython",
    "version": 3
   },
   "file_extension": ".py",
   "mimetype": "text/x-python",
   "name": "python",
   "nbconvert_exporter": "python",
   "pygments_lexer": "ipython3",
   "version": "3.7.4"
  }
 },
 "nbformat": 4,
 "nbformat_minor": 2
}
